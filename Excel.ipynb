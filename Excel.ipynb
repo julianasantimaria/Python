{
 "cells": [
  {
   "cell_type": "code",
   "execution_count": 4,
   "metadata": {},
   "outputs": [
    {
     "name": "stdout",
     "output_type": "stream",
     "text": [
      "Requirement already satisfied: xlsxwriter in /Users/julianasantimaria/.pyenv/versions/3.10.4/lib/python3.10/site-packages (3.1.2)\n",
      "\u001b[33mWARNING: You are using pip version 22.0.4; however, version 23.1.2 is available.\n",
      "You should consider upgrading via the '/Users/julianasantimaria/.pyenv/versions/3.10.4/bin/python3.10 -m pip install --upgrade pip' command.\u001b[0m\u001b[33m\n",
      "\u001b[0m"
     ]
    }
   ],
   "source": [
    "#Adicionando Biblioteca\n",
    "!pip install xlsxwriter"
   ]
  },
  {
   "cell_type": "code",
   "execution_count": 5,
   "metadata": {},
   "outputs": [
    {
     "ename": "AttributeError",
     "evalue": "module 'os' has no attribute 'startfile'",
     "output_type": "error",
     "traceback": [
      "\u001b[0;31m---------------------------------------------------------------------------\u001b[0m",
      "\u001b[0;31mAttributeError\u001b[0m                            Traceback (most recent call last)",
      "Cell \u001b[0;32mIn[5], line 15\u001b[0m\n\u001b[1;32m     13\u001b[0m sheetPadrao\u001b[39m.\u001b[39mwrite(\u001b[39m\"\u001b[39m\u001b[39mB3\u001b[39m\u001b[39m\"\u001b[39m, \u001b[39m\"\u001b[39m\u001b[39m02/08/2010\u001b[39m\u001b[39m\"\u001b[39m)\n\u001b[1;32m     14\u001b[0m workbook\u001b[39m.\u001b[39mclose()\n\u001b[0;32m---> 15\u001b[0m os\u001b[39m.\u001b[39;49mstartfile(nomeCaminhoArquivo)\n",
      "\u001b[0;31mAttributeError\u001b[0m: module 'os' has no attribute 'startfile'"
     ]
    }
   ],
   "source": [
    "#Inserindo os dados na planilha Excel\n",
    "import xlsxwriter as opcoesDoxlsxWriter\n",
    "import os\n",
    "nomeCaminhoArquivo = '/Users/julianasantimaria/Desktop/Python/xlsxwriter/PrimeiroExemplo.xlsx'\n",
    "workbook = opcoesDoxlsxWriter.Workbook(nomeCaminhoArquivo)\n",
    "sheetPadrao = workbook.add_worksheet()\n",
    "\n",
    "sheetPadrao.write(\"A1\", \"Nome\")\n",
    "sheetPadrao.write(\"B1\", \"Data Nasc\")\n",
    "sheetPadrao.write(\"A2\", \"Amanda\")\n",
    "sheetPadrao.write(\"B2\", \"22/08/1985\")\n",
    "sheetPadrao.write(\"A3\", \"Allan\")\n",
    "sheetPadrao.write(\"B3\", \"02/08/2010\")\n",
    "workbook.close()\n",
    "os.startfile(nomeCaminhoArquivo)"
   ]
  },
  {
   "cell_type": "code",
   "execution_count": 13,
   "metadata": {},
   "outputs": [
    {
     "ename": "AttributeError",
     "evalue": "module 'os' has no attribute 'startfile'",
     "output_type": "error",
     "traceback": [
      "\u001b[0;31m---------------------------------------------------------------------------\u001b[0m",
      "\u001b[0;31mAttributeError\u001b[0m                            Traceback (most recent call last)",
      "Cell \u001b[0;32mIn[13], line 31\u001b[0m\n\u001b[1;32m     28\u001b[0m sheetPadrao\u001b[39m.\u001b[39mwrite_formula(\u001b[39m\"\u001b[39m\u001b[39mC8\u001b[39m\u001b[39m\"\u001b[39m, \u001b[39m'\u001b[39m\u001b[39m=CONCATENAR(A8,\u001b[39m\u001b[39m\"\u001b[39m\u001b[39m \u001b[39m\u001b[39m\"\u001b[39m\u001b[39m,B8)\u001b[39m\u001b[39m'\u001b[39m)\n\u001b[1;32m     30\u001b[0m workbook\u001b[39m.\u001b[39mclose()\n\u001b[0;32m---> 31\u001b[0m os\u001b[39m.\u001b[39;49mstartfile(nomeCaminhoArquivo)\n",
      "\u001b[0;31mAttributeError\u001b[0m: module 'os' has no attribute 'startfile'"
     ]
    }
   ],
   "source": [
    "#Inserindo Formulas \n",
    "import xlsxwriter as opcoesDoxlsxWriter\n",
    "import os\n",
    "nomeCaminhoArquivo = '/Users/julianasantimaria/Desktop/Python/xlsxwriter/Formulas.xlsx'\n",
    "workbook = opcoesDoxlsxWriter.Workbook(nomeCaminhoArquivo)\n",
    "sheetPadrao = workbook.add_worksheet()\n",
    "\n",
    "sheetPadrao.write(\"A1\", \"Número 1\")\n",
    "sheetPadrao.write(\"B1\", \"Número 2\")\n",
    "sheetPadrao.write(\"C1\", \"Fórmula\")\n",
    "\n",
    "sheetPadrao.write(\"A2\", 10)\n",
    "sheetPadrao.write(\"A3\", 6)\n",
    "sheetPadrao.write(\"A4\", 8)\n",
    "sheetPadrao.write(\"A5\", 6)\n",
    "sheetPadrao.write(\"A8\", \"ANA\")\n",
    "\n",
    "sheetPadrao.write(\"B2\", 7)\n",
    "sheetPadrao.write(\"B3\", 5)\n",
    "sheetPadrao.write(\"B4\", 3)\n",
    "sheetPadrao.write(\"B5\", 1)\n",
    "sheetPadrao.write(\"B8\", \"PAULA\")\n",
    "\n",
    "sheetPadrao.write_formula(\"C2\", \"=A2+B2\")\n",
    "sheetPadrao.write_formula(\"C3\", \"=A3-B3\")\n",
    "sheetPadrao.write_formula(\"C4\", \"=A4*B4\")\n",
    "sheetPadrao.write_formula(\"C5\", \"=A5/B5\")\n",
    "sheetPadrao.write_formula(\"C8\", '=CONCATENAR(A8,\" \",B8)')\n",
    "\n",
    "sheetPadrao.set_column('A:C', 15)\n",
    "\n",
    "workbook.close()\n",
    "os.startfile(nomeCaminhoArquivo)"
   ]
  }
 ],
 "metadata": {
  "kernelspec": {
   "display_name": "Python 3",
   "language": "python",
   "name": "python3"
  },
  "language_info": {
   "codemirror_mode": {
    "name": "ipython",
    "version": 3
   },
   "file_extension": ".py",
   "mimetype": "text/x-python",
   "name": "python",
   "nbconvert_exporter": "python",
   "pygments_lexer": "ipython3",
   "version": "3.10.4 (main, Dec 27 2022, 19:02:24) [Clang 14.0.0 (clang-1400.0.29.202)]"
  },
  "orig_nbformat": 4,
  "vscode": {
   "interpreter": {
    "hash": "4411995b73ec13a500e13202b82d58677d0c88c9f0303e3f0c27d3c01a81ed09"
   }
  }
 },
 "nbformat": 4,
 "nbformat_minor": 2
}
